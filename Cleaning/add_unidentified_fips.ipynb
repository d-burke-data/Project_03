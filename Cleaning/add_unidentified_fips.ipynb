{
 "cells": [
  {
   "cell_type": "code",
   "execution_count": 2,
   "metadata": {},
   "outputs": [],
   "source": [
    "import pandas as pd\n",
    "import numpy as np\n",
    "import os"
   ]
  },
  {
   "cell_type": "code",
   "execution_count": 14,
   "metadata": {},
   "outputs": [
    {
     "name": "stdout",
     "output_type": "stream",
     "text": [
      "  STATEFP STATE\n",
      "0      01    AL\n",
      "1      02    AK\n",
      "2      04    AZ\n",
      "3      05    AR\n",
      "4      06    CA\n",
      "    FIPS      COUNTYNAME STATE\n",
      "0  01001  Autauga County    AL\n",
      "1  01003  Baldwin County    AL\n",
      "2  01005  Barbour County    AL\n",
      "3  01007     Bibb County    AL\n",
      "4  01009   Blount County    AL\n"
     ]
    }
   ],
   "source": [
    "state_fips_file = \"../../../Data/cleaned_state.csv\"\n",
    "cz_fips_file = \"../../../Data/fips_data.csv\"\n",
    "\n",
    "state_fips_df = pd.read_csv(state_fips_file, dtype=str)\n",
    "cz_fips_df = pd.read_csv(cz_fips_file, dtype=str)\n",
    "print(state_fips_df.head())\n",
    "print(cz_fips_df.head())"
   ]
  },
  {
   "cell_type": "code",
   "execution_count": 15,
   "metadata": {},
   "outputs": [
    {
     "data": {
      "text/html": [
       "<div>\n",
       "<style scoped>\n",
       "    .dataframe tbody tr th:only-of-type {\n",
       "        vertical-align: middle;\n",
       "    }\n",
       "\n",
       "    .dataframe tbody tr th {\n",
       "        vertical-align: top;\n",
       "    }\n",
       "\n",
       "    .dataframe thead th {\n",
       "        text-align: right;\n",
       "    }\n",
       "</style>\n",
       "<table border=\"1\" class=\"dataframe\">\n",
       "  <thead>\n",
       "    <tr style=\"text-align: right;\">\n",
       "      <th></th>\n",
       "      <th>FIPS</th>\n",
       "      <th>STATE</th>\n",
       "      <th>COUNTYNAME</th>\n",
       "    </tr>\n",
       "  </thead>\n",
       "  <tbody>\n",
       "    <tr>\n",
       "      <th>0</th>\n",
       "      <td>01000</td>\n",
       "      <td>AL</td>\n",
       "      <td>unidentified county</td>\n",
       "    </tr>\n",
       "    <tr>\n",
       "      <th>1</th>\n",
       "      <td>02000</td>\n",
       "      <td>AK</td>\n",
       "      <td>unidentified county</td>\n",
       "    </tr>\n",
       "    <tr>\n",
       "      <th>2</th>\n",
       "      <td>04000</td>\n",
       "      <td>AZ</td>\n",
       "      <td>unidentified county</td>\n",
       "    </tr>\n",
       "    <tr>\n",
       "      <th>3</th>\n",
       "      <td>05000</td>\n",
       "      <td>AR</td>\n",
       "      <td>unidentified county</td>\n",
       "    </tr>\n",
       "    <tr>\n",
       "      <th>4</th>\n",
       "      <td>06000</td>\n",
       "      <td>CA</td>\n",
       "      <td>unidentified county</td>\n",
       "    </tr>\n",
       "  </tbody>\n",
       "</table>\n",
       "</div>"
      ],
      "text/plain": [
       "    FIPS STATE           COUNTYNAME\n",
       "0  01000    AL  unidentified county\n",
       "1  02000    AK  unidentified county\n",
       "2  04000    AZ  unidentified county\n",
       "3  05000    AR  unidentified county\n",
       "4  06000    CA  unidentified county"
      ]
     },
     "execution_count": 15,
     "metadata": {},
     "output_type": "execute_result"
    }
   ],
   "source": [
    "state_fips_df['STATEFP'] = state_fips_df['STATEFP'] + \"000\"\n",
    "state_fips_df['COUNTYNAME'] = 'unidentified county'\n",
    "state_fips_df = state_fips_df.rename(columns={'STATEFP': 'FIPS'})\n",
    "state_fips_df.head()"
   ]
  },
  {
   "cell_type": "code",
   "execution_count": 19,
   "metadata": {},
   "outputs": [
    {
     "data": {
      "text/html": [
       "<div>\n",
       "<style scoped>\n",
       "    .dataframe tbody tr th:only-of-type {\n",
       "        vertical-align: middle;\n",
       "    }\n",
       "\n",
       "    .dataframe tbody tr th {\n",
       "        vertical-align: top;\n",
       "    }\n",
       "\n",
       "    .dataframe thead th {\n",
       "        text-align: right;\n",
       "    }\n",
       "</style>\n",
       "<table border=\"1\" class=\"dataframe\">\n",
       "  <thead>\n",
       "    <tr style=\"text-align: right;\">\n",
       "      <th></th>\n",
       "      <th>FIPS</th>\n",
       "      <th>COUNTYNAME</th>\n",
       "      <th>STATE</th>\n",
       "    </tr>\n",
       "  </thead>\n",
       "  <tbody>\n",
       "    <tr>\n",
       "      <th>34</th>\n",
       "      <td>01000</td>\n",
       "      <td>unidentified county</td>\n",
       "      <td>AL</td>\n",
       "    </tr>\n",
       "    <tr>\n",
       "      <th>35</th>\n",
       "      <td>01001</td>\n",
       "      <td>Autauga County</td>\n",
       "      <td>AL</td>\n",
       "    </tr>\n",
       "    <tr>\n",
       "      <th>36</th>\n",
       "      <td>01003</td>\n",
       "      <td>Baldwin County</td>\n",
       "      <td>AL</td>\n",
       "    </tr>\n",
       "    <tr>\n",
       "      <th>37</th>\n",
       "      <td>01005</td>\n",
       "      <td>Barbour County</td>\n",
       "      <td>AL</td>\n",
       "    </tr>\n",
       "    <tr>\n",
       "      <th>38</th>\n",
       "      <td>01007</td>\n",
       "      <td>Bibb County</td>\n",
       "      <td>AL</td>\n",
       "    </tr>\n",
       "    <tr>\n",
       "      <th>...</th>\n",
       "      <td>...</td>\n",
       "      <td>...</td>\n",
       "      <td>...</td>\n",
       "    </tr>\n",
       "    <tr>\n",
       "      <th>2918</th>\n",
       "      <td>74300</td>\n",
       "      <td>Midway Islands</td>\n",
       "      <td>UM</td>\n",
       "    </tr>\n",
       "    <tr>\n",
       "      <th>3083</th>\n",
       "      <td>78000</td>\n",
       "      <td>unidentified county</td>\n",
       "      <td>VI</td>\n",
       "    </tr>\n",
       "    <tr>\n",
       "      <th>3084</th>\n",
       "      <td>78010</td>\n",
       "      <td>St. Croix Island</td>\n",
       "      <td>VI</td>\n",
       "    </tr>\n",
       "    <tr>\n",
       "      <th>3085</th>\n",
       "      <td>78020</td>\n",
       "      <td>St. John Island</td>\n",
       "      <td>VI</td>\n",
       "    </tr>\n",
       "    <tr>\n",
       "      <th>3086</th>\n",
       "      <td>78030</td>\n",
       "      <td>St. Thomas Island</td>\n",
       "      <td>VI</td>\n",
       "    </tr>\n",
       "  </tbody>\n",
       "</table>\n",
       "<p>3295 rows × 3 columns</p>\n",
       "</div>"
      ],
      "text/plain": [
       "       FIPS           COUNTYNAME STATE\n",
       "34    01000  unidentified county    AL\n",
       "35    01001       Autauga County    AL\n",
       "36    01003       Baldwin County    AL\n",
       "37    01005       Barbour County    AL\n",
       "38    01007          Bibb County    AL\n",
       "...     ...                  ...   ...\n",
       "2918  74300       Midway Islands    UM\n",
       "3083  78000  unidentified county    VI\n",
       "3084  78010     St. Croix Island    VI\n",
       "3085  78020      St. John Island    VI\n",
       "3086  78030    St. Thomas Island    VI\n",
       "\n",
       "[3295 rows x 3 columns]"
      ]
     },
     "execution_count": 19,
     "metadata": {},
     "output_type": "execute_result"
    }
   ],
   "source": [
    "new_cz_fips = cz_fips_df.merge(state_fips_df, on=[\"STATE\", \"FIPS\", \"COUNTYNAME\"], how=\"outer\")\n",
    "new_cz_fips = new_cz_fips.sort_values(\"FIPS\")\n",
    "new_cz_fips"
   ]
  },
  {
   "cell_type": "code",
   "execution_count": 20,
   "metadata": {},
   "outputs": [],
   "source": [
    "new_cz_fips.to_csv(\"../../../Data/new_fips_data.csv\", index=False)"
   ]
  },
  {
   "cell_type": "code",
   "execution_count": null,
   "metadata": {},
   "outputs": [],
   "source": []
  }
 ],
 "metadata": {
  "kernelspec": {
   "display_name": "base",
   "language": "python",
   "name": "python3"
  },
  "language_info": {
   "codemirror_mode": {
    "name": "ipython",
    "version": 3
   },
   "file_extension": ".py",
   "mimetype": "text/x-python",
   "name": "python",
   "nbconvert_exporter": "python",
   "pygments_lexer": "ipython3",
   "version": "3.12.4"
  }
 },
 "nbformat": 4,
 "nbformat_minor": 2
}
