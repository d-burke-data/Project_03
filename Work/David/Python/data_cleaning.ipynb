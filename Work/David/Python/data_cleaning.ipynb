{
 "cells": [
  {
   "cell_type": "code",
   "execution_count": 739,
   "metadata": {},
   "outputs": [],
   "source": [
    "import pandas as pd\n",
    "import numpy as np\n",
    "import os\n",
    "#import re"
   ]
  },
  {
   "cell_type": "code",
   "execution_count": 740,
   "metadata": {},
   "outputs": [],
   "source": [
    "import warnings\n",
    "\n",
    "# Suppress all warnings\n",
    "warnings.filterwarnings(\"ignore\")"
   ]
  },
  {
   "cell_type": "code",
   "execution_count": 753,
   "metadata": {},
   "outputs": [],
   "source": [
    "# Get all files in the Details folder\n",
    "details_path = \"../Data/Details/\"\n",
    "files = [f\"{details_path}{filename}\" for filename in os.listdir(details_path) if os.path.isfile((os.path.join(details_path, filename)))]"
   ]
  },
  {
   "cell_type": "code",
   "execution_count": 754,
   "metadata": {},
   "outputs": [],
   "source": [
    "cleaned_path = \"../Data/Cleaned/\"\n",
    "\n",
    "#file_path = \"../Data/\"\n",
    "#filename_start_details = \"StormEvents_details-ftp_v1.0\"\n",
    "#filename_start_fatalities = \"StormEvents_fatalities-ftp_v1.0\"\n",
    "#filename_start_locations = \"StormEvents_locations-ftp_v1.0\"\n",
    "\n",
    "#filename = \"StormEvents_details-ftp_v1.0_d2024_c20250122\"\n",
    "#extension = \".csv\"\n",
    "\n",
    "tornado_id = 1"
   ]
  },
  {
   "cell_type": "code",
   "execution_count": 755,
   "metadata": {},
   "outputs": [],
   "source": [
    "def process_file(file):\n",
    "    print(f\"Processing file {file}\")\n",
    "    # Read file\n",
    "    detail_data_raw_pd = pd.read_csv(file)\n",
    "\n",
    "    # Filter tornadoes\n",
    "    detail_data_clean_pd = detail_data_raw_pd[detail_data_raw_pd[\"EVENT_TYPE\"] == \"Tornado\"]\n",
    "\n",
    "    # Process timestamps\n",
    "    detail_data_clean_pd.loc[:,\"B_DATE_TIME\"] = pd.to_datetime(detail_data_clean_pd.loc[:,\"BEGIN_DATE_TIME\"])\n",
    "    detail_data_clean_pd.loc[:,\"E_DATE_TIME\"] = pd.to_datetime(detail_data_clean_pd.loc[:,\"END_DATE_TIME\"])\n",
    "    detail_data_clean_pd.loc[:,\"BEGIN_TIMESTAMP\"] = detail_data_clean_pd.loc[:,\"B_DATE_TIME\"].astype(\"int64\") // 10**9\n",
    "    detail_data_clean_pd.loc[:,\"END_TIMESTAMP\"] = detail_data_clean_pd.loc[:,\"E_DATE_TIME\"].astype(\"int64\") // 10**9\n",
    "\n",
    "    detail_data_clean_pd = detail_data_clean_pd.sort_values(\"BEGIN_TIMESTAMP\")\n",
    "    detail_data_clean_pd = detail_data_clean_pd.reset_index()\n",
    "\n",
    "    # Accumulate Deaths & Injuries\n",
    "    detail_data_clean_pd[\"DEATHS\"] = detail_data_clean_pd[\"DEATHS_DIRECT\"] + detail_data_clean_pd[\"DEATHS_INDIRECT\"]\n",
    "    detail_data_clean_pd[\"INJURIES\"] = detail_data_clean_pd[\"INJURIES_DIRECT\"] + detail_data_clean_pd[\"INJURIES_INDIRECT\"]\n",
    "\n",
    "    # CONVERT DAMAGE_PROPERTY TO NUMERIC\n",
    "    detail_data_clean_pd[\"DAMAGE_PROPERTY\"] = detail_data_clean_pd[\"DAMAGE_PROPERTY\"].astype(str)\n",
    "    detail_data_clean_pd.loc[:,\"DAMAGE_PROPERTY\"] = detail_data_clean_pd.loc[:,\"DAMAGE_PROPERTY\"].fillna(\"0.00K\")\n",
    "    detail_data_clean_pd[\"DAMAGE_PROPERTY\"] = detail_data_clean_pd[\"DAMAGE_PROPERTY\"].where(detail_data_clean_pd[\"DAMAGE_PROPERTY\"] == 0, \"0.00K\")\n",
    "\n",
    "    pattern = r'(\\d+[.]*\\d*)[KM]'\n",
    "    detail_data_clean_pd[\"DMG_PRP\"] = detail_data_clean_pd[\"DAMAGE_PROPERTY\"].str.extract(pattern).astype(float)\n",
    "    pattern = r'\\d+[.]*\\d*([KM])'\n",
    "    detail_data_clean_pd[\"DMG_PRP_MULT_STR\"] = detail_data_clean_pd[\"DAMAGE_PROPERTY\"].str.extract(pattern)\n",
    "    detail_data_clean_pd[\"DMG_PRP\"] = (detail_data_clean_pd[\"DMG_PRP\"] * \n",
    "                                        np.where(detail_data_clean_pd[\"DMG_PRP_MULT_STR\"] == \"K\", 1000, 1))\n",
    "    detail_data_clean_pd[\"DMG_PRP\"] = (detail_data_clean_pd[\"DMG_PRP\"] * \n",
    "                                        np.where(detail_data_clean_pd[\"DMG_PRP_MULT_STR\"] == \"M\", 1000000, 1))\n",
    "    \n",
    "    # CONVERT DAMAGE_CROPS TO NUMERIC\n",
    "    detail_data_clean_pd[\"DAMAGE_CROPS\"] = detail_data_clean_pd[\"DAMAGE_CROPS\"].astype(str)\n",
    "    detail_data_clean_pd.loc[:,\"DAMAGE_CROPS\"] = detail_data_clean_pd.loc[:,\"DAMAGE_CROPS\"].fillna(\"0.00K\")\n",
    "    detail_data_clean_pd[\"DAMAGE_CROPS\"] = detail_data_clean_pd[\"DAMAGE_CROPS\"].where(detail_data_clean_pd[\"DAMAGE_CROPS\"] == 0, \"0.00K\")\n",
    "\n",
    "    pattern = r'(\\d+[.]*\\d*)[KM]'\n",
    "    detail_data_clean_pd[\"DMG_CRP\"] = detail_data_clean_pd[\"DAMAGE_CROPS\"].str.extract(pattern).astype(float)\n",
    "    pattern = r'\\d+[.]*\\d*([KM])'\n",
    "    detail_data_clean_pd[\"DMG_CRP_MULT_STR\"] = detail_data_clean_pd[\"DAMAGE_CROPS\"].str.extract(pattern)\n",
    "    detail_data_clean_pd[\"DMG_CRP\"] = (detail_data_clean_pd[\"DMG_CRP\"] * \n",
    "                                        np.where(detail_data_clean_pd[\"DMG_CRP_MULT_STR\"] == \"K\", 1000, 1))\n",
    "    detail_data_clean_pd[\"DMG_CRP\"] = (detail_data_clean_pd[\"DMG_CRP\"] * \n",
    "                                        np.where(detail_data_clean_pd[\"DMG_CRP_MULT_STR\"] == \"M\", 1000000, 1))\n",
    "\n",
    "    # Trim columns\n",
    "    detail_data_clean_pd = detail_data_clean_pd[[\n",
    "       'EVENT_ID', \"STATE_FIPS\", 'CZ_FIPS', 'WFO',\n",
    "       'CZ_TIMEZONE', 'BEGIN_TIMESTAMP', 'END_TIMESTAMP',\n",
    "       'DEATHS', 'INJURIES', 'DMG_PRP', 'DMG_CRP',\n",
    "       'TOR_F_SCALE', 'TOR_LENGTH', 'TOR_WIDTH',\n",
    "       'TOR_OTHER_CZ_FIPS', 'TOR_OTHER_WFO',\n",
    "       'BEGIN_RANGE', 'BEGIN_AZIMUTH', 'BEGIN_LOCATION',\n",
    "       'END_RANGE', 'END_AZIMUTH', 'END_LOCATION',\n",
    "       'BEGIN_LAT', 'BEGIN_LON', 'END_LAT', 'END_LON',\n",
    "       'EVENT_NARRATIVE']]\n",
    "    \n",
    "    # Rename the property and crop damage columns back to their original names\n",
    "    detail_data_clean_pd = detail_data_clean_pd.rename({\"DMG_PRP\": \"DAMAGE_PROPERTY\", \"DMG_CRP\": \"DAMAGE_CROPS\"}, axis=1)\n",
    "\n",
    "    # Fix numeric dtypes\n",
    "    detail_data_clean_pd[\"CZ_FIPS\"] = detail_data_clean_pd[\"CZ_FIPS\"].astype(\"int64\")\n",
    "    detail_data_clean_pd[\"TOR_OTHER_CZ_FIPS\"] = detail_data_clean_pd[\"TOR_OTHER_CZ_FIPS\"].astype(\"Int64\")\n",
    "    detail_data_clean_pd[\"DAMAGE_PROPERTY\"] = detail_data_clean_pd[\"DAMAGE_PROPERTY\"].astype(\"int64\")\n",
    "    detail_data_clean_pd[\"DAMAGE_CROPS\"] = detail_data_clean_pd[\"DAMAGE_CROPS\"].astype(\"int64\")\n",
    "\n",
    "    detail_data_clean_pd[\"TORNADO_ID\"] = 0\n",
    "\n",
    "    return detail_data_clean_pd\n"
   ]
  },
  {
   "cell_type": "code",
   "execution_count": 756,
   "metadata": {},
   "outputs": [
    {
     "name": "stdout",
     "output_type": "stream",
     "text": [
      "Processing file ../Data/Details/StormEvents_details-ftp_v1.0_d1950_c20210803.csv\n",
      "Processing file ../Data/Details/StormEvents_details-ftp_v1.0_d1951_c20210803.csv\n",
      "Processing file ../Data/Details/StormEvents_details-ftp_v1.0_d1952_c20210803.csv\n",
      "Processing file ../Data/Details/StormEvents_details-ftp_v1.0_d1953_c20210803.csv\n",
      "Processing file ../Data/Details/StormEvents_details-ftp_v1.0_d1954_c20210803.csv\n",
      "Processing file ../Data/Details/StormEvents_details-ftp_v1.0_d1955_c20210803.csv\n",
      "Processing file ../Data/Details/StormEvents_details-ftp_v1.0_d1956_c20210803.csv\n",
      "Processing file ../Data/Details/StormEvents_details-ftp_v1.0_d1957_c20210803.csv\n",
      "Processing file ../Data/Details/StormEvents_details-ftp_v1.0_d1958_c20210803.csv\n",
      "Processing file ../Data/Details/StormEvents_details-ftp_v1.0_d1959_c20210803.csv\n",
      "Processing file ../Data/Details/StormEvents_details-ftp_v1.0_d1960_c20210803.csv\n",
      "Processing file ../Data/Details/StormEvents_details-ftp_v1.0_d1961_c20210803.csv\n",
      "Processing file ../Data/Details/StormEvents_details-ftp_v1.0_d1962_c20210803.csv\n",
      "Processing file ../Data/Details/StormEvents_details-ftp_v1.0_d1963_c20210803.csv\n",
      "Processing file ../Data/Details/StormEvents_details-ftp_v1.0_d1964_c20210803.csv\n",
      "Processing file ../Data/Details/StormEvents_details-ftp_v1.0_d1965_c20210803.csv\n",
      "Processing file ../Data/Details/StormEvents_details-ftp_v1.0_d1966_c20210803.csv\n",
      "Processing file ../Data/Details/StormEvents_details-ftp_v1.0_d1967_c20210803.csv\n",
      "Processing file ../Data/Details/StormEvents_details-ftp_v1.0_d1968_c20210803.csv\n",
      "Processing file ../Data/Details/StormEvents_details-ftp_v1.0_d1969_c20210803.csv\n",
      "Processing file ../Data/Details/StormEvents_details-ftp_v1.0_d1970_c20210803.csv\n",
      "Processing file ../Data/Details/StormEvents_details-ftp_v1.0_d1971_c20210803.csv\n",
      "Processing file ../Data/Details/StormEvents_details-ftp_v1.0_d1972_c20220425.csv\n",
      "Processing file ../Data/Details/StormEvents_details-ftp_v1.0_d1973_c20220425.csv\n",
      "Processing file ../Data/Details/StormEvents_details-ftp_v1.0_d1974_c20220425.csv\n",
      "Processing file ../Data/Details/StormEvents_details-ftp_v1.0_d1975_c20220425.csv\n",
      "Processing file ../Data/Details/StormEvents_details-ftp_v1.0_d1976_c20220425.csv\n",
      "Processing file ../Data/Details/StormEvents_details-ftp_v1.0_d1977_c20220425.csv\n",
      "Processing file ../Data/Details/StormEvents_details-ftp_v1.0_d1978_c20220425.csv\n",
      "Processing file ../Data/Details/StormEvents_details-ftp_v1.0_d1979_c20220425.csv\n",
      "Processing file ../Data/Details/StormEvents_details-ftp_v1.0_d1980_c20220425.csv\n",
      "Processing file ../Data/Details/StormEvents_details-ftp_v1.0_d1981_c20220425.csv\n",
      "Processing file ../Data/Details/StormEvents_details-ftp_v1.0_d1982_c20220425.csv\n",
      "Processing file ../Data/Details/StormEvents_details-ftp_v1.0_d1983_c20220425.csv\n",
      "Processing file ../Data/Details/StormEvents_details-ftp_v1.0_d1984_c20220425.csv\n",
      "Processing file ../Data/Details/StormEvents_details-ftp_v1.0_d1985_c20220425.csv\n",
      "Processing file ../Data/Details/StormEvents_details-ftp_v1.0_d1986_c20220425.csv\n",
      "Processing file ../Data/Details/StormEvents_details-ftp_v1.0_d1987_c20220425.csv\n",
      "Processing file ../Data/Details/StormEvents_details-ftp_v1.0_d1988_c20220425.csv\n",
      "Processing file ../Data/Details/StormEvents_details-ftp_v1.0_d1989_c20220425.csv\n",
      "Processing file ../Data/Details/StormEvents_details-ftp_v1.0_d1990_c20220425.csv\n",
      "Processing file ../Data/Details/StormEvents_details-ftp_v1.0_d1991_c20220425.csv\n",
      "Processing file ../Data/Details/StormEvents_details-ftp_v1.0_d1992_c20220425.csv\n",
      "Processing file ../Data/Details/StormEvents_details-ftp_v1.0_d1993_c20220425.csv\n",
      "Processing file ../Data/Details/StormEvents_details-ftp_v1.0_d1994_c20220425.csv\n",
      "Processing file ../Data/Details/StormEvents_details-ftp_v1.0_d1995_c20220425.csv\n",
      "Processing file ../Data/Details/StormEvents_details-ftp_v1.0_d1996_c20220425.csv\n",
      "Processing file ../Data/Details/StormEvents_details-ftp_v1.0_d1997_c20220425.csv\n",
      "Processing file ../Data/Details/StormEvents_details-ftp_v1.0_d1998_c20220425.csv\n",
      "Processing file ../Data/Details/StormEvents_details-ftp_v1.0_d1999_c20220425.csv\n",
      "Processing file ../Data/Details/StormEvents_details-ftp_v1.0_d2000_c20220425.csv\n",
      "Processing file ../Data/Details/StormEvents_details-ftp_v1.0_d2001_c20220425.csv\n",
      "Processing file ../Data/Details/StormEvents_details-ftp_v1.0_d2002_c20220425.csv\n",
      "Processing file ../Data/Details/StormEvents_details-ftp_v1.0_d2003_c20220425.csv\n",
      "Processing file ../Data/Details/StormEvents_details-ftp_v1.0_d2004_c20220425.csv\n",
      "Processing file ../Data/Details/StormEvents_details-ftp_v1.0_d2005_c20220425.csv\n",
      "Processing file ../Data/Details/StormEvents_details-ftp_v1.0_d2006_c20250122.csv\n",
      "Processing file ../Data/Details/StormEvents_details-ftp_v1.0_d2007_c20240216.csv\n",
      "Processing file ../Data/Details/StormEvents_details-ftp_v1.0_d2008_c20240620.csv\n",
      "Processing file ../Data/Details/StormEvents_details-ftp_v1.0_d2009_c20231116.csv\n",
      "Processing file ../Data/Details/StormEvents_details-ftp_v1.0_d2010_c20220425.csv\n",
      "Processing file ../Data/Details/StormEvents_details-ftp_v1.0_d2011_c20230417.csv\n",
      "Processing file ../Data/Details/StormEvents_details-ftp_v1.0_d2012_c20221216.csv\n",
      "Processing file ../Data/Details/StormEvents_details-ftp_v1.0_d2013_c20230118.csv\n",
      "Processing file ../Data/Details/StormEvents_details-ftp_v1.0_d2014_c20231116.csv\n",
      "Processing file ../Data/Details/StormEvents_details-ftp_v1.0_d2015_c20240716.csv\n",
      "Processing file ../Data/Details/StormEvents_details-ftp_v1.0_d2016_c20220719.csv\n",
      "Processing file ../Data/Details/StormEvents_details-ftp_v1.0_d2017_c20250122.csv\n",
      "Processing file ../Data/Details/StormEvents_details-ftp_v1.0_d2018_c20240716.csv\n",
      "Processing file ../Data/Details/StormEvents_details-ftp_v1.0_d2019_c20240117.csv\n",
      "Processing file ../Data/Details/StormEvents_details-ftp_v1.0_d2020_c20240620.csv\n",
      "Processing file ../Data/Details/StormEvents_details-ftp_v1.0_d2021_c20240716.csv\n",
      "Processing file ../Data/Details/StormEvents_details-ftp_v1.0_d2022_c20241121.csv\n",
      "Processing file ../Data/Details/StormEvents_details-ftp_v1.0_d2023_c20241216.csv\n",
      "Processing file ../Data/Details/StormEvents_details-ftp_v1.0_d2024_c20250122.csv\n",
      "<bound method DataFrame.info of       EVENT_ID  STATE_FIPS  CZ_FIPS  WFO CZ_TIMEZONE  BEGIN_TIMESTAMP  \\\n",
      "0     10063615        29.0      189  NaN         CST       2524820400   \n",
      "1     10009710        17.0      119  NaN         CST       2524821000   \n",
      "2     10009711        17.0      135  NaN         CST       2524823700   \n",
      "3     10086808        39.0      161  NaN         CST       2524838400   \n",
      "4      9981922         5.0      113  NaN         CST       2525664300   \n",
      "...        ...         ...      ...  ...         ...              ...   \n",
      "1896   1217072        40.0      115  TSA       CST-6       1730323800   \n",
      "1897   1217077        29.0      137  LSX       CST-6       1730325000   \n",
      "1898   1217082        17.0        1  LSX       CST-6       1730327400   \n",
      "1899   1217076         5.0      143  TSA       CST-6       1730330700   \n",
      "1900   1219466        41.0       41  PQR       PST-8       1730357760   \n",
      "\n",
      "      END_TIMESTAMP  DEATHS  INJURIES  DAMAGE_PROPERTY  ...  BEGIN_LOCATION  \\\n",
      "0        2524820400       0         3                0  ...             NaN   \n",
      "1        2524821000       0         0                0  ...             NaN   \n",
      "2        2524823700       0         3                0  ...             NaN   \n",
      "3        2524838400       0         1                0  ...             NaN   \n",
      "4        2525664300       1         1                0  ...             NaN   \n",
      "...             ...     ...       ...              ...  ...             ...   \n",
      "1896     1730324340       0         0                0  ...        FAIRLAND   \n",
      "1897     1730325360       0         0                0  ...       GRANVILLE   \n",
      "1898     1730327460       0         0                0  ...          QUINCY   \n",
      "1899     1730331060       0         0                0  ...   PRAIRIE GROVE   \n",
      "1900     1730357820       0         0                0  ...      SOUTHBEACH   \n",
      "\n",
      "     END_RANGE  END_AZIMUTH   END_LOCATION  BEGIN_LAT BEGIN_LON  END_LAT  \\\n",
      "0          0.0          NaN            NaN    38.7700  -90.2200  38.8200   \n",
      "1          0.0          NaN            NaN    38.8200  -90.1000  38.8300   \n",
      "2          0.0          NaN            NaN    39.1000  -89.3000  39.1200   \n",
      "3          0.0          NaN            NaN    40.8800  -84.5800      NaN   \n",
      "4          0.0          NaN            NaN    34.4000  -94.3700      NaN   \n",
      "...        ...          ...            ...        ...       ...      ...   \n",
      "1896       2.0          ESE       OGEECHEE    36.7030  -94.8820  36.7640   \n",
      "1897       4.0            W     NORTH FORK    39.5847  -92.0893  39.6237   \n",
      "1898       3.0           SE         QUINCY    39.8950  -91.3754  39.8962   \n",
      "1899       2.0          ENE  PRAIRIE GROVE    35.9660  -94.3320  35.9870   \n",
      "1900       0.0           SE        NEWPORT    44.6239 -124.0463  44.6251   \n",
      "\n",
      "       END_LON                                    EVENT_NARRATIVE  TORNADO_ID  \n",
      "0     -90.1200                                                NaN           0  \n",
      "1     -90.0300                                                NaN           0  \n",
      "2     -89.2300                                                NaN           0  \n",
      "3          NaN                                                NaN           0  \n",
      "4          NaN                                                NaN           0  \n",
      "...        ...                                                ...         ...  \n",
      "1896  -94.7640  This tornado developed west of the S 560 Road ...           0  \n",
      "1897  -91.9966  An EF-0 tornado formed shortly before 11pm CDT...           0  \n",
      "1898  -91.3690  An EF-0 tornado formed at 1130pm CDT just east...           0  \n",
      "1899  -94.2840  This tornado developed north of Highway 62 ove...           0  \n",
      "1900 -124.0437  At the Oregon State University Ship Operations...           0  \n",
      "\n",
      "[78496 rows x 28 columns]>\n"
     ]
    }
   ],
   "source": [
    "df_list = [process_file(file) for file in files]\n",
    "details_full_df = pd.concat(df_list)\n",
    "\n",
    "print(details_full_df.info)\n",
    "details_full_df.to_csv(f\"{cleaned_path}/Tornadoes_1950_2024.csv\", index=False)"
   ]
  },
  {
   "cell_type": "code",
   "execution_count": 670,
   "metadata": {},
   "outputs": [
    {
     "data": {
      "text/plain": [
       "Index(['BEGIN_YEARMONTH', 'BEGIN_DAY', 'BEGIN_TIME', 'END_YEARMONTH',\n",
       "       'END_DAY', 'END_TIME', 'EPISODE_ID', 'EVENT_ID', 'STATE', 'STATE_FIPS',\n",
       "       'YEAR', 'MONTH_NAME', 'EVENT_TYPE', 'CZ_TYPE', 'CZ_FIPS', 'CZ_NAME',\n",
       "       'WFO', 'BEGIN_DATE_TIME', 'CZ_TIMEZONE', 'END_DATE_TIME',\n",
       "       'INJURIES_DIRECT', 'INJURIES_INDIRECT', 'DEATHS_DIRECT',\n",
       "       'DEATHS_INDIRECT', 'DAMAGE_PROPERTY', 'DAMAGE_CROPS', 'SOURCE',\n",
       "       'MAGNITUDE', 'MAGNITUDE_TYPE', 'FLOOD_CAUSE', 'CATEGORY', 'TOR_F_SCALE',\n",
       "       'TOR_LENGTH', 'TOR_WIDTH', 'TOR_OTHER_WFO', 'TOR_OTHER_CZ_STATE',\n",
       "       'TOR_OTHER_CZ_FIPS', 'TOR_OTHER_CZ_NAME', 'BEGIN_RANGE',\n",
       "       'BEGIN_AZIMUTH', 'BEGIN_LOCATION', 'END_RANGE', 'END_AZIMUTH',\n",
       "       'END_LOCATION', 'BEGIN_LAT', 'BEGIN_LON', 'END_LAT', 'END_LON',\n",
       "       'EPISODE_NARRATIVE', 'EVENT_NARRATIVE', 'DATA_SOURCE'],\n",
       "      dtype='object')"
      ]
     },
     "execution_count": 670,
     "metadata": {},
     "output_type": "execute_result"
    }
   ],
   "source": [
    "detail_data_raw_pd.columns"
   ]
  },
  {
   "cell_type": "code",
   "execution_count": 671,
   "metadata": {},
   "outputs": [
    {
     "data": {
      "text/plain": [
       "78       Tornado\n",
       "79       Tornado\n",
       "84       Tornado\n",
       "91       Tornado\n",
       "98       Tornado\n",
       "          ...   \n",
       "64069    Tornado\n",
       "64076    Tornado\n",
       "64099    Tornado\n",
       "64111    Tornado\n",
       "64115    Tornado\n",
       "Name: EVENT_TYPE, Length: 1901, dtype: object"
      ]
     },
     "execution_count": 671,
     "metadata": {},
     "output_type": "execute_result"
    }
   ],
   "source": [
    "# Filter to only tornadoes\n",
    "detail_data_clean_pd = detail_data_raw_pd[detail_data_raw_pd[\"EVENT_TYPE\"] == \"Tornado\"]\n",
    "#detail_data_clean_pd = detail_data_clean_pd.sort_values(\"EVENT_ID\")\n",
    "#detail_data_clean_pd = detail_data_clean_pd.reset_index()\n",
    "detail_data_clean_pd[\"EVENT_TYPE\"]"
   ]
  },
  {
   "cell_type": "code",
   "execution_count": 672,
   "metadata": {},
   "outputs": [
    {
     "name": "stderr",
     "output_type": "stream",
     "text": [
      "C:\\Users\\David\\AppData\\Local\\Temp\\ipykernel_24516\\3593305165.py:1: UserWarning: Could not infer format, so each element will be parsed individually, falling back to `dateutil`. To ensure parsing is consistent and as-expected, please specify a format.\n",
      "  detail_data_clean_pd.loc[:,\"B_DATE_TIME\"] = pd.to_datetime(detail_data_clean_pd.loc[:,\"BEGIN_DATE_TIME\"])\n",
      "C:\\Users\\David\\AppData\\Local\\Temp\\ipykernel_24516\\3593305165.py:1: SettingWithCopyWarning: \n",
      "A value is trying to be set on a copy of a slice from a DataFrame.\n",
      "Try using .loc[row_indexer,col_indexer] = value instead\n",
      "\n",
      "See the caveats in the documentation: https://pandas.pydata.org/pandas-docs/stable/user_guide/indexing.html#returning-a-view-versus-a-copy\n",
      "  detail_data_clean_pd.loc[:,\"B_DATE_TIME\"] = pd.to_datetime(detail_data_clean_pd.loc[:,\"BEGIN_DATE_TIME\"])\n",
      "C:\\Users\\David\\AppData\\Local\\Temp\\ipykernel_24516\\3593305165.py:2: UserWarning: Could not infer format, so each element will be parsed individually, falling back to `dateutil`. To ensure parsing is consistent and as-expected, please specify a format.\n",
      "  detail_data_clean_pd.loc[:,\"E_DATE_TIME\"] = pd.to_datetime(detail_data_clean_pd.loc[:,\"END_DATE_TIME\"])\n",
      "C:\\Users\\David\\AppData\\Local\\Temp\\ipykernel_24516\\3593305165.py:2: SettingWithCopyWarning: \n",
      "A value is trying to be set on a copy of a slice from a DataFrame.\n",
      "Try using .loc[row_indexer,col_indexer] = value instead\n",
      "\n",
      "See the caveats in the documentation: https://pandas.pydata.org/pandas-docs/stable/user_guide/indexing.html#returning-a-view-versus-a-copy\n",
      "  detail_data_clean_pd.loc[:,\"E_DATE_TIME\"] = pd.to_datetime(detail_data_clean_pd.loc[:,\"END_DATE_TIME\"])\n",
      "C:\\Users\\David\\AppData\\Local\\Temp\\ipykernel_24516\\3593305165.py:3: SettingWithCopyWarning: \n",
      "A value is trying to be set on a copy of a slice from a DataFrame.\n",
      "Try using .loc[row_indexer,col_indexer] = value instead\n",
      "\n",
      "See the caveats in the documentation: https://pandas.pydata.org/pandas-docs/stable/user_guide/indexing.html#returning-a-view-versus-a-copy\n",
      "  detail_data_clean_pd.loc[:,\"BEGIN_TIMESTAMP\"] = detail_data_clean_pd.loc[:,\"B_DATE_TIME\"].astype(\"int64\") // 10**9\n",
      "C:\\Users\\David\\AppData\\Local\\Temp\\ipykernel_24516\\3593305165.py:4: SettingWithCopyWarning: \n",
      "A value is trying to be set on a copy of a slice from a DataFrame.\n",
      "Try using .loc[row_indexer,col_indexer] = value instead\n",
      "\n",
      "See the caveats in the documentation: https://pandas.pydata.org/pandas-docs/stable/user_guide/indexing.html#returning-a-view-versus-a-copy\n",
      "  detail_data_clean_pd.loc[:,\"END_TIMESTAMP\"] = detail_data_clean_pd.loc[:,\"E_DATE_TIME\"].astype(\"int64\") // 10**9\n"
     ]
    }
   ],
   "source": [
    "detail_data_clean_pd.loc[:,\"B_DATE_TIME\"] = pd.to_datetime(detail_data_clean_pd.loc[:,\"BEGIN_DATE_TIME\"])\n",
    "detail_data_clean_pd.loc[:,\"E_DATE_TIME\"] = pd.to_datetime(detail_data_clean_pd.loc[:,\"END_DATE_TIME\"])\n",
    "detail_data_clean_pd.loc[:,\"BEGIN_TIMESTAMP\"] = detail_data_clean_pd.loc[:,\"B_DATE_TIME\"].astype(\"int64\") // 10**9\n",
    "detail_data_clean_pd.loc[:,\"END_TIMESTAMP\"] = detail_data_clean_pd.loc[:,\"E_DATE_TIME\"].astype(\"int64\") // 10**9\n",
    "\n",
    "detail_data_clean_pd = detail_data_clean_pd.sort_values(\"BEGIN_TIMESTAMP\")\n",
    "detail_data_clean_pd = detail_data_clean_pd.reset_index()\n",
    "\n",
    "#print(detail_data_clean_pd[\"BEGIN_TIMESTAMP\"])\n",
    "#print(detail_data_clean_pd[\"END_TIMESTAMP\"])"
   ]
  },
  {
   "cell_type": "code",
   "execution_count": 673,
   "metadata": {},
   "outputs": [
    {
     "data": {
      "text/plain": [
       "Index(['index', 'BEGIN_YEARMONTH', 'BEGIN_DAY', 'BEGIN_TIME', 'END_YEARMONTH',\n",
       "       'END_DAY', 'END_TIME', 'EPISODE_ID', 'EVENT_ID', 'STATE', 'STATE_FIPS',\n",
       "       'YEAR', 'MONTH_NAME', 'EVENT_TYPE', 'CZ_TYPE', 'CZ_FIPS', 'CZ_NAME',\n",
       "       'WFO', 'BEGIN_DATE_TIME', 'CZ_TIMEZONE', 'END_DATE_TIME',\n",
       "       'INJURIES_DIRECT', 'INJURIES_INDIRECT', 'DEATHS_DIRECT',\n",
       "       'DEATHS_INDIRECT', 'DAMAGE_PROPERTY', 'DAMAGE_CROPS', 'SOURCE',\n",
       "       'MAGNITUDE', 'MAGNITUDE_TYPE', 'FLOOD_CAUSE', 'CATEGORY', 'TOR_F_SCALE',\n",
       "       'TOR_LENGTH', 'TOR_WIDTH', 'TOR_OTHER_WFO', 'TOR_OTHER_CZ_STATE',\n",
       "       'TOR_OTHER_CZ_FIPS', 'TOR_OTHER_CZ_NAME', 'BEGIN_RANGE',\n",
       "       'BEGIN_AZIMUTH', 'BEGIN_LOCATION', 'END_RANGE', 'END_AZIMUTH',\n",
       "       'END_LOCATION', 'BEGIN_LAT', 'BEGIN_LON', 'END_LAT', 'END_LON',\n",
       "       'EPISODE_NARRATIVE', 'EVENT_NARRATIVE', 'DATA_SOURCE', 'B_DATE_TIME',\n",
       "       'E_DATE_TIME', 'BEGIN_TIMESTAMP', 'END_TIMESTAMP'],\n",
       "      dtype='object')"
      ]
     },
     "execution_count": 673,
     "metadata": {},
     "output_type": "execute_result"
    }
   ],
   "source": [
    "detail_data_clean_pd.columns"
   ]
  },
  {
   "cell_type": "code",
   "execution_count": 674,
   "metadata": {},
   "outputs": [],
   "source": [
    "#detail_data_clean_pd = detail_data_clean_pd.drop(columns=[\"MONTH_NAME\",  \"SOURCE\",\n",
    "#                                                          \"MAGNITUDE\", \"MAGNITUDE_TYPE\", \"FLOOD_CAUSE\", \"CATEGORY\",\n",
    "#                                                          \"DATA_SOURCE\"])\n",
    "#detail_data_clean_pd.columns"
   ]
  },
  {
   "cell_type": "code",
   "execution_count": 675,
   "metadata": {},
   "outputs": [],
   "source": [
    "#detail_data_clean_pd[\"BEGIN_YEARMONTH\"] = detail_data_clean_pd[\"BEGIN_YEARMONTH\"].astype(str)\n",
    "#detail_data_clean_pd[\"BEGIN_YEARMONTH\"]"
   ]
  },
  {
   "cell_type": "code",
   "execution_count": 676,
   "metadata": {},
   "outputs": [],
   "source": [
    "#pattern = r\"(\\d{4})\"\n",
    "#detail_data_clean_pd[\"BEGIN_YEAR\"] = detail_data_clean_pd[\"BEGIN_YEARMONTH\"].str.extract(pattern)\n",
    "#detail_data_clean_pd[\"BEGIN_YEAR\"]"
   ]
  },
  {
   "cell_type": "code",
   "execution_count": 677,
   "metadata": {},
   "outputs": [],
   "source": [
    "#pattern = r\"\\d{4}(\\d{2})\"\n",
    "#detail_data_clean_pd[\"BEGIN_MONTH\"] = detail_data_clean_pd[\"BEGIN_YEARMONTH\"].str.extract(pattern)\n",
    "#detail_data_clean_pd[\"BEGIN_MONTH\"]"
   ]
  },
  {
   "cell_type": "code",
   "execution_count": 678,
   "metadata": {},
   "outputs": [],
   "source": [
    "#detail_data_clean_pd[\"END_YEARMONTH\"] = detail_data_clean_pd[\"END_YEARMONTH\"].astype(str)\n",
    "#detail_data_clean_pd[\"END_YEARMONTH\"]"
   ]
  },
  {
   "cell_type": "code",
   "execution_count": 679,
   "metadata": {},
   "outputs": [],
   "source": [
    "#pattern = r\"(\\d{4})\"\n",
    "#detail_data_clean_pd[\"END_YEAR\"] = detail_data_clean_pd[\"END_YEARMONTH\"].str.extract(pattern)\n",
    "#detail_data_clean_pd[\"END_YEAR\"]"
   ]
  },
  {
   "cell_type": "code",
   "execution_count": 680,
   "metadata": {},
   "outputs": [],
   "source": [
    "#pattern = r\"\\d{4}(\\d{2})\"\n",
    "#detail_data_clean_pd[\"END_MONTH\"] = detail_data_clean_pd[\"END_YEARMONTH\"].str.extract(pattern)\n",
    "#detail_data_clean_pd[\"END_MONTH\"]"
   ]
  },
  {
   "cell_type": "code",
   "execution_count": 681,
   "metadata": {},
   "outputs": [],
   "source": [
    "#detail_data_clean_pd[\"BEGIN_YEAR\"] = detail_data_clean_pd[\"BEGIN_YEAR\"].astype(\"Int64\")\n",
    "#detail_data_clean_pd[\"BEGIN_MONTH\"] = detail_data_clean_pd[\"BEGIN_MONTH\"].astype(\"Int64\")\n",
    "#detail_data_clean_pd[\"END_YEAR\"] = detail_data_clean_pd[\"END_YEAR\"].astype(\"Int64\")\n",
    "#detail_data_clean_pd[\"END_MONTH\"] = detail_data_clean_pd[\"END_MONTH\"].astype(\"Int64\")\n",
    "#detail_data_clean_pd = detail_data_clean_pd.drop(columns=[\"BEGIN_YEARMONTH\", \"END_YEARMONTH\"])"
   ]
  },
  {
   "cell_type": "code",
   "execution_count": 682,
   "metadata": {},
   "outputs": [],
   "source": [
    "#detail_data_clean_pd[\"BEGIN_LOC\"] = detail_data_clean_pd['BEGIN_RANGE'].astype(str) + \" miles \" + detail_data_clean_pd['BEGIN_AZIMUTH'] + \" of \" + detail_data_clean_pd['BEGIN_LOCATION'] + \", \" + detail_data_clean_pd['STATE']\n",
    "#detail_data_clean_pd[\"BEGIN_LOC\"]"
   ]
  },
  {
   "cell_type": "code",
   "execution_count": 683,
   "metadata": {},
   "outputs": [],
   "source": [
    "#detail_data_clean_pd[\"END_LOC\"] = detail_data_clean_pd['END_RANGE'].astype(str) + \" miles \" + detail_data_clean_pd['BEGIN_AZIMUTH'] + \" of \" + detail_data_clean_pd['END_LOCATION'] + \", \" + detail_data_clean_pd['STATE']\n",
    "#detail_data_clean_pd[\"END_LOC\"]"
   ]
  },
  {
   "cell_type": "code",
   "execution_count": 684,
   "metadata": {},
   "outputs": [],
   "source": [
    "detail_data_clean_pd[\"DEATHS\"] = detail_data_clean_pd[\"DEATHS_DIRECT\"] + detail_data_clean_pd[\"DEATHS_INDIRECT\"]"
   ]
  },
  {
   "cell_type": "code",
   "execution_count": 685,
   "metadata": {},
   "outputs": [],
   "source": [
    "detail_data_clean_pd[\"INJURIES\"] = detail_data_clean_pd[\"INJURIES_DIRECT\"] + detail_data_clean_pd[\"INJURIES_INDIRECT\"]"
   ]
  },
  {
   "cell_type": "code",
   "execution_count": 686,
   "metadata": {},
   "outputs": [],
   "source": [
    "# CONVERT DAMAGE_PROPERTY TO NUMERIC\n",
    "detail_data_clean_pd.loc[:,\"DAMAGE_PROPERTY\"] = detail_data_clean_pd.loc[:,\"DAMAGE_PROPERTY\"].fillna(\"0.00K\")\n",
    "\n",
    "pattern = r'(\\d+[.]*\\d+)[KM]'\n",
    "detail_data_clean_pd[\"DMG_PRP\"] = detail_data_clean_pd[\"DAMAGE_PROPERTY\"].str.extract(pattern).astype(float)\n",
    "pattern = r'\\d+[.]*\\d+([KM])'\n",
    "detail_data_clean_pd[\"DMG_PRP_MULT_STR\"] = detail_data_clean_pd[\"DAMAGE_PROPERTY\"].str.extract(pattern)\n",
    "detail_data_clean_pd[\"DMG_PRP\"] = (detail_data_clean_pd[\"DMG_PRP\"] * \n",
    "                                   np.where(detail_data_clean_pd[\"DMG_PRP_MULT_STR\"] == \"K\", 1000, 1))\n",
    "detail_data_clean_pd[\"DMG_PRP\"] = (detail_data_clean_pd[\"DMG_PRP\"] * \n",
    "                                   np.where(detail_data_clean_pd[\"DMG_PRP_MULT_STR\"] == \"M\", 1000000, 1))"
   ]
  },
  {
   "cell_type": "code",
   "execution_count": 687,
   "metadata": {},
   "outputs": [],
   "source": [
    "# CONVERT DAMAGE_CROPS TO NUMERIC\n",
    "detail_data_clean_pd.loc[:,\"DAMAGE_CROPS\"] = detail_data_clean_pd.loc[:,\"DAMAGE_CROPS\"].fillna(\"0.00K\")\n",
    "\n",
    "pattern = r'(\\d+[.]*\\d+)[KM]'\n",
    "detail_data_clean_pd[\"DMG_CRP\"] = detail_data_clean_pd[\"DAMAGE_CROPS\"].str.extract(pattern).astype(float)\n",
    "\n",
    "pattern = r'\\d+[.]*\\d+([KM])'\n",
    "detail_data_clean_pd[\"DMG_CRP_MULT_STR\"] = detail_data_clean_pd[\"DAMAGE_CROPS\"].str.extract(pattern)\n",
    "detail_data_clean_pd[\"DMG_CRP\"] = (detail_data_clean_pd[\"DMG_CRP\"] * \n",
    "                                   np.where(detail_data_clean_pd[\"DMG_CRP_MULT_STR\"] == \"K\", 1000, 1))\n",
    "detail_data_clean_pd[\"DMG_CRP\"] = (detail_data_clean_pd[\"DMG_CRP\"] * \n",
    "                                   np.where(detail_data_clean_pd[\"DMG_CRP_MULT_STR\"] == \"M\", 1000000, 1))"
   ]
  },
  {
   "cell_type": "code",
   "execution_count": 688,
   "metadata": {},
   "outputs": [],
   "source": [
    "detail_data_clean_pd = detail_data_clean_pd[[\n",
    "       'EVENT_ID', \"STATE_FIPS\", 'CZ_FIPS', 'WFO',\n",
    "       'CZ_TIMEZONE', 'BEGIN_TIMESTAMP', 'END_TIMESTAMP',\n",
    "       'DEATHS', 'INJURIES', 'DMG_PRP', 'DMG_CRP',\n",
    "       'TOR_F_SCALE', 'TOR_LENGTH', 'TOR_WIDTH',\n",
    "       'TOR_OTHER_CZ_FIPS', 'TOR_OTHER_WFO',\n",
    "       'BEGIN_RANGE', 'BEGIN_AZIMUTH', 'BEGIN_LOCATION',\n",
    "       'END_RANGE', 'END_AZIMUTH', 'END_LOCATION',\n",
    "       'BEGIN_LAT', 'BEGIN_LON', 'END_LAT', 'END_LON',\n",
    "       'EVENT_NARRATIVE']]"
   ]
  },
  {
   "cell_type": "code",
   "execution_count": 689,
   "metadata": {},
   "outputs": [],
   "source": [
    "# Rename the property and crop damage columns back to their original names\n",
    "detail_data_clean_pd = detail_data_clean_pd.rename({\"DMG_PRP\": \"DAMAGE_PROPERTY\", \"DMG_CRP\": \"DAMAGE_CROPS\"}, axis=1)"
   ]
  },
  {
   "cell_type": "code",
   "execution_count": 690,
   "metadata": {},
   "outputs": [],
   "source": [
    "# Fix numeric dtypes\n",
    "detail_data_clean_pd[\"CZ_FIPS\"] = detail_data_clean_pd[\"CZ_FIPS\"].astype(\"int64\")\n",
    "detail_data_clean_pd[\"TOR_OTHER_CZ_FIPS\"] = detail_data_clean_pd[\"TOR_OTHER_CZ_FIPS\"].astype(\"Int64\")\n",
    "detail_data_clean_pd[\"DAMAGE_PROPERTY\"] = detail_data_clean_pd[\"DAMAGE_PROPERTY\"].astype(\"int64\")\n",
    "detail_data_clean_pd[\"DAMAGE_CROPS\"] = detail_data_clean_pd[\"DAMAGE_CROPS\"].astype(\"int64\")"
   ]
  },
  {
   "cell_type": "code",
   "execution_count": 691,
   "metadata": {},
   "outputs": [],
   "source": [
    "# Add TORNADO_ID column\n",
    "detail_data_clean_pd[\"TORNADO_ID\"] = 0"
   ]
  },
  {
   "cell_type": "code",
   "execution_count": 692,
   "metadata": {},
   "outputs": [],
   "source": [
    "def find_next_tornado_segment(current_index):    \n",
    "    iterrable_df = detail_data_clean_pd.copy()\n",
    "    \n",
    "    iterrable_df = iterrable_df.iloc[current_index:,:]\n",
    "    current_row = iterrable_df.iloc[0:1,:]\n",
    "\n",
    "    next_fips = current_row.loc[:,\"TOR_OTHER_CZ_FIPS\"].values[0]\n",
    "    next_wfo = current_row.loc[:,\"TOR_OTHER_WFO\"].values[0]\n",
    "    next_timestamp = current_row.loc[:,\"END_TIMESTAMP\"].values[0]\n",
    "    \n",
    "    #print(next_fips, next_wfo, next_timestamp)\n",
    "    found = iterrable_df[(iterrable_df[\"CZ_FIPS\"] == next_fips) &\n",
    "                          (iterrable_df[\"WFO\"] == next_wfo) &\n",
    "                          (iterrable_df[\"BEGIN_TIMESTAMP\"] == next_timestamp)]\n",
    "    \n",
    "    #found = iterrable_df[(iterrable_df[\"CZ_FIPS\"] == next_fips) &\n",
    "    #                      (iterrable_df[\"WFO\"] == next_wfo)]\n",
    "    print(found)\n",
    "    return found.index[0]\n",
    "    #print(current_row)\n",
    "    #for index, row in iterrable_df.iterrows():\n",
    "    #    if (current_row[\"TOR_OTHER_CZ_FIPS\"] == row[\"CZ_FIPS\"]):\n",
    "    #        print(\"found FIPS match!\")\n",
    "\n",
    "    "
   ]
  },
  {
   "cell_type": "code",
   "execution_count": 693,
   "metadata": {},
   "outputs": [],
   "source": [
    "def identify_segments():\n",
    "    segments_df = detail_data_clean_pd.copy()\n",
    "    segments_df = segments_df[segments_df[\"TOR_OTHER_CZ_FIPS\"].notna()]\n",
    "    return segments_df.index"
   ]
  },
  {
   "cell_type": "code",
   "execution_count": 694,
   "metadata": {},
   "outputs": [],
   "source": [
    "def idenfity_tornadoes():\n",
    "    segment_indices = identify_segments()\n",
    "    #print(segment_indices)\n",
    "    global tornado_id\n",
    "    work_df = detail_data_clean_pd.copy()\n",
    "    #global detail_data_clean_pd\n",
    "\n",
    "    for index, row in work_df.iterrows():\n",
    "        if row[\"TORNADO_ID\"] == 0:\n",
    "            this_row = work_df.iloc[index:index+1,:]\n",
    "            work_df.loc[index:index+1,\"TORNADO_ID\"] = tornado_id\n",
    "            #print(this_row[\"TOR_OTHER_CZ_FIPS\"])\n",
    "            is_segment = this_row[\"TOR_OTHER_CZ_FIPS\"].notna()\n",
    "            if is_segment.values[0]:\n",
    "                #print(is_segment.values[0])\n",
    "                print(f\"Index: {index}\")\n",
    "                next_segment_index = find_next_tornado_segment(index)\n",
    "                print(f\"   Next segment: {next_segment_index}\")\n",
    "                #print(f\"Next: {find_next_tornado_segment(index)}\")\n",
    "\n",
    "            tornado_id = tornado_id + 1\n",
    "\n",
    "    #tornado_id = tornado_id_temp\n",
    "    #print(tornado_id)\n",
    "    return work_df\n"
   ]
  },
  {
   "cell_type": "code",
   "execution_count": 696,
   "metadata": {},
   "outputs": [],
   "source": [
    "#detail_data_clean_pd = idenfity_tornadoes()"
   ]
  },
  {
   "cell_type": "code",
   "execution_count": 488,
   "metadata": {},
   "outputs": [
    {
     "data": {
      "text/plain": [
       "EVENT_ID               int64\n",
       "STATE_FIPS             int64\n",
       "CZ_FIPS                int64\n",
       "WFO                   object\n",
       "CZ_TIMEZONE           object\n",
       "BEGIN_TIMESTAMP        int64\n",
       "END_TIMESTAMP          int64\n",
       "DEATHS                 int64\n",
       "INJURIES               int64\n",
       "DAMAGE_PROPERTY        int64\n",
       "DAMAGE_CROPS           int64\n",
       "TOR_F_SCALE           object\n",
       "TOR_LENGTH           float64\n",
       "TOR_WIDTH            float64\n",
       "TOR_OTHER_CZ_FIPS      Int64\n",
       "TOR_OTHER_WFO         object\n",
       "BEGIN_RANGE          float64\n",
       "BEGIN_AZIMUTH         object\n",
       "BEGIN_LOCATION        object\n",
       "END_RANGE            float64\n",
       "END_AZIMUTH           object\n",
       "END_LOCATION          object\n",
       "BEGIN_LAT            float64\n",
       "BEGIN_LON            float64\n",
       "END_LAT              float64\n",
       "END_LON              float64\n",
       "EVENT_NARRATIVE       object\n",
       "TORNADO_ID             int64\n",
       "dtype: object"
      ]
     },
     "execution_count": 488,
     "metadata": {},
     "output_type": "execute_result"
    }
   ],
   "source": [
    "detail_data_clean_pd.dtypes"
   ]
  },
  {
   "cell_type": "code",
   "execution_count": 489,
   "metadata": {},
   "outputs": [
    {
     "data": {
      "text/html": [
       "<div>\n",
       "<style scoped>\n",
       "    .dataframe tbody tr th:only-of-type {\n",
       "        vertical-align: middle;\n",
       "    }\n",
       "\n",
       "    .dataframe tbody tr th {\n",
       "        vertical-align: top;\n",
       "    }\n",
       "\n",
       "    .dataframe thead th {\n",
       "        text-align: right;\n",
       "    }\n",
       "</style>\n",
       "<table border=\"1\" class=\"dataframe\">\n",
       "  <thead>\n",
       "    <tr style=\"text-align: right;\">\n",
       "      <th></th>\n",
       "      <th>EVENT_ID</th>\n",
       "      <th>STATE_FIPS</th>\n",
       "      <th>CZ_FIPS</th>\n",
       "      <th>WFO</th>\n",
       "      <th>CZ_TIMEZONE</th>\n",
       "      <th>BEGIN_TIMESTAMP</th>\n",
       "      <th>END_TIMESTAMP</th>\n",
       "      <th>DEATHS</th>\n",
       "      <th>INJURIES</th>\n",
       "      <th>DAMAGE_PROPERTY</th>\n",
       "      <th>...</th>\n",
       "      <th>BEGIN_LOCATION</th>\n",
       "      <th>END_RANGE</th>\n",
       "      <th>END_AZIMUTH</th>\n",
       "      <th>END_LOCATION</th>\n",
       "      <th>BEGIN_LAT</th>\n",
       "      <th>BEGIN_LON</th>\n",
       "      <th>END_LAT</th>\n",
       "      <th>END_LON</th>\n",
       "      <th>EVENT_NARRATIVE</th>\n",
       "      <th>TORNADO_ID</th>\n",
       "    </tr>\n",
       "  </thead>\n",
       "  <tbody>\n",
       "    <tr>\n",
       "      <th>0</th>\n",
       "      <td>1147213</td>\n",
       "      <td>45</td>\n",
       "      <td>63</td>\n",
       "      <td>CAE</td>\n",
       "      <td>EST-5</td>\n",
       "      <td>1704809400</td>\n",
       "      <td>1704809760</td>\n",
       "      <td>0</td>\n",
       "      <td>1</td>\n",
       "      <td>0</td>\n",
       "      <td>...</td>\n",
       "      <td>SYRUP</td>\n",
       "      <td>1.0</td>\n",
       "      <td>SSE</td>\n",
       "      <td>SYRUP</td>\n",
       "      <td>34.0518</td>\n",
       "      <td>-81.3548</td>\n",
       "      <td>34.0923</td>\n",
       "      <td>-81.3252</td>\n",
       "      <td>A National Weather Service storm survey team c...</td>\n",
       "      <td>0</td>\n",
       "    </tr>\n",
       "    <tr>\n",
       "      <th>1</th>\n",
       "      <td>1147216</td>\n",
       "      <td>45</td>\n",
       "      <td>9</td>\n",
       "      <td>CAE</td>\n",
       "      <td>EST-5</td>\n",
       "      <td>1704811560</td>\n",
       "      <td>1704811680</td>\n",
       "      <td>0</td>\n",
       "      <td>0</td>\n",
       "      <td>1800000</td>\n",
       "      <td>...</td>\n",
       "      <td>BAMBERG</td>\n",
       "      <td>0.0</td>\n",
       "      <td>NW</td>\n",
       "      <td>BAMBERG</td>\n",
       "      <td>33.2729</td>\n",
       "      <td>-81.0435</td>\n",
       "      <td>33.3027</td>\n",
       "      <td>-81.0331</td>\n",
       "      <td>A National Weather storm survey team confirmed...</td>\n",
       "      <td>0</td>\n",
       "    </tr>\n",
       "    <tr>\n",
       "      <th>2</th>\n",
       "      <td>1149117</td>\n",
       "      <td>12</td>\n",
       "      <td>11</td>\n",
       "      <td>MFL</td>\n",
       "      <td>EST-5</td>\n",
       "      <td>1704563220</td>\n",
       "      <td>1704563400</td>\n",
       "      <td>0</td>\n",
       "      <td>0</td>\n",
       "      <td>150000</td>\n",
       "      <td>...</td>\n",
       "      <td>PORT EVERGLADES</td>\n",
       "      <td>2.0</td>\n",
       "      <td>ESE</td>\n",
       "      <td>FT LAUDERDALE</td>\n",
       "      <td>26.1076</td>\n",
       "      <td>-80.1297</td>\n",
       "      <td>26.1199</td>\n",
       "      <td>-80.1086</td>\n",
       "      <td>A tornado affected the downtown Fort Lauderdal...</td>\n",
       "      <td>0</td>\n",
       "    </tr>\n",
       "    <tr>\n",
       "      <th>3</th>\n",
       "      <td>1149494</td>\n",
       "      <td>45</td>\n",
       "      <td>81</td>\n",
       "      <td>CAE</td>\n",
       "      <td>EST-5</td>\n",
       "      <td>1706386680</td>\n",
       "      <td>1706386920</td>\n",
       "      <td>0</td>\n",
       "      <td>0</td>\n",
       "      <td>0</td>\n",
       "      <td>...</td>\n",
       "      <td>MERCHANT</td>\n",
       "      <td>3.0</td>\n",
       "      <td>S</td>\n",
       "      <td>PERRYS XRDS</td>\n",
       "      <td>34.0600</td>\n",
       "      <td>-81.6700</td>\n",
       "      <td>34.0821</td>\n",
       "      <td>-81.6607</td>\n",
       "      <td>A National Weather Service storm survey team c...</td>\n",
       "      <td>0</td>\n",
       "    </tr>\n",
       "    <tr>\n",
       "      <th>4</th>\n",
       "      <td>1149609</td>\n",
       "      <td>45</td>\n",
       "      <td>79</td>\n",
       "      <td>CAE</td>\n",
       "      <td>EST-5</td>\n",
       "      <td>1706370480</td>\n",
       "      <td>1706370600</td>\n",
       "      <td>0</td>\n",
       "      <td>0</td>\n",
       "      <td>0</td>\n",
       "      <td>...</td>\n",
       "      <td>PONTIAC</td>\n",
       "      <td>3.0</td>\n",
       "      <td>N</td>\n",
       "      <td>PONTIAC</td>\n",
       "      <td>34.1614</td>\n",
       "      <td>-80.8590</td>\n",
       "      <td>34.1690</td>\n",
       "      <td>-80.8464</td>\n",
       "      <td>A National Weather Service storm survey team c...</td>\n",
       "      <td>0</td>\n",
       "    </tr>\n",
       "  </tbody>\n",
       "</table>\n",
       "<p>5 rows × 28 columns</p>\n",
       "</div>"
      ],
      "text/plain": [
       "   EVENT_ID  STATE_FIPS  CZ_FIPS  WFO CZ_TIMEZONE  BEGIN_TIMESTAMP  \\\n",
       "0   1147213          45       63  CAE       EST-5       1704809400   \n",
       "1   1147216          45        9  CAE       EST-5       1704811560   \n",
       "2   1149117          12       11  MFL       EST-5       1704563220   \n",
       "3   1149494          45       81  CAE       EST-5       1706386680   \n",
       "4   1149609          45       79  CAE       EST-5       1706370480   \n",
       "\n",
       "   END_TIMESTAMP  DEATHS  INJURIES  DAMAGE_PROPERTY  ...   BEGIN_LOCATION  \\\n",
       "0     1704809760       0         1                0  ...            SYRUP   \n",
       "1     1704811680       0         0          1800000  ...          BAMBERG   \n",
       "2     1704563400       0         0           150000  ...  PORT EVERGLADES   \n",
       "3     1706386920       0         0                0  ...         MERCHANT   \n",
       "4     1706370600       0         0                0  ...          PONTIAC   \n",
       "\n",
       "  END_RANGE  END_AZIMUTH   END_LOCATION  BEGIN_LAT BEGIN_LON  END_LAT  \\\n",
       "0       1.0          SSE          SYRUP    34.0518  -81.3548  34.0923   \n",
       "1       0.0           NW        BAMBERG    33.2729  -81.0435  33.3027   \n",
       "2       2.0          ESE  FT LAUDERDALE    26.1076  -80.1297  26.1199   \n",
       "3       3.0            S    PERRYS XRDS    34.0600  -81.6700  34.0821   \n",
       "4       3.0            N        PONTIAC    34.1614  -80.8590  34.1690   \n",
       "\n",
       "   END_LON                                    EVENT_NARRATIVE  TORNADO_ID  \n",
       "0 -81.3252  A National Weather Service storm survey team c...           0  \n",
       "1 -81.0331  A National Weather storm survey team confirmed...           0  \n",
       "2 -80.1086  A tornado affected the downtown Fort Lauderdal...           0  \n",
       "3 -81.6607  A National Weather Service storm survey team c...           0  \n",
       "4 -80.8464  A National Weather Service storm survey team c...           0  \n",
       "\n",
       "[5 rows x 28 columns]"
      ]
     },
     "execution_count": 489,
     "metadata": {},
     "output_type": "execute_result"
    }
   ],
   "source": [
    "detail_data_clean_pd.head()"
   ]
  },
  {
   "cell_type": "code",
   "execution_count": 490,
   "metadata": {},
   "outputs": [],
   "source": [
    "#detail_data_clean_pd.to_csv(f\"{file_path}Cleaned/{filename}_CLN{extension}\", index=False)"
   ]
  },
  {
   "cell_type": "code",
   "execution_count": null,
   "metadata": {},
   "outputs": [],
   "source": []
  },
  {
   "cell_type": "code",
   "execution_count": null,
   "metadata": {},
   "outputs": [],
   "source": []
  }
 ],
 "metadata": {
  "kernelspec": {
   "display_name": "base",
   "language": "python",
   "name": "python3"
  },
  "language_info": {
   "codemirror_mode": {
    "name": "ipython",
    "version": 3
   },
   "file_extension": ".py",
   "mimetype": "text/x-python",
   "name": "python",
   "nbconvert_exporter": "python",
   "pygments_lexer": "ipython3",
   "version": "3.12.4"
  }
 },
 "nbformat": 4,
 "nbformat_minor": 2
}
