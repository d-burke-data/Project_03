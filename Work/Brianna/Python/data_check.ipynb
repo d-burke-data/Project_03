{
 "cells": [
  {
   "cell_type": "code",
   "execution_count": 17,
   "metadata": {},
   "outputs": [],
   "source": [
    "# dependencies\n",
    "import pandas as pd"
   ]
  },
  {
   "cell_type": "code",
   "execution_count": 18,
   "metadata": {},
   "outputs": [],
   "source": [
    "# import data\n",
    "events_df = pd.read_csv('../../../Data/Tornadoes_1950_2024.csv', dtype={'FIPS': str})\n",
    "fips_df = pd.read_csv('../../../Data/fips_data.csv', dtype={'FIPS': str})\n",
    "scales_df = pd.read_csv('../../../Data/f_scales.csv')"
   ]
  },
  {
   "cell_type": "code",
   "execution_count": 32,
   "metadata": {},
   "outputs": [
    {
     "data": {
      "text/html": [
       "<div>\n",
       "<style scoped>\n",
       "    .dataframe tbody tr th:only-of-type {\n",
       "        vertical-align: middle;\n",
       "    }\n",
       "\n",
       "    .dataframe tbody tr th {\n",
       "        vertical-align: top;\n",
       "    }\n",
       "\n",
       "    .dataframe thead th {\n",
       "        text-align: right;\n",
       "    }\n",
       "</style>\n",
       "<table border=\"1\" class=\"dataframe\">\n",
       "  <thead>\n",
       "    <tr style=\"text-align: right;\">\n",
       "      <th></th>\n",
       "      <th>EVENT_ID</th>\n",
       "      <th>FIPS</th>\n",
       "      <th>BEGIN_TIMESTAMP</th>\n",
       "      <th>END_TIMESTAMP</th>\n",
       "      <th>DEATHS</th>\n",
       "      <th>INJURIES</th>\n",
       "      <th>DAMAGE_PROPERTY</th>\n",
       "      <th>DAMAGE_CROPS</th>\n",
       "      <th>TOR_F_SCALE</th>\n",
       "      <th>TOR_F_LEVEL</th>\n",
       "      <th>...</th>\n",
       "      <th>BEGIN_AZIMUTH</th>\n",
       "      <th>BEGIN_LOCATION</th>\n",
       "      <th>END_RANGE</th>\n",
       "      <th>END_AZIMUTH</th>\n",
       "      <th>END_LOCATION</th>\n",
       "      <th>BEGIN_LAT</th>\n",
       "      <th>BEGIN_LON</th>\n",
       "      <th>END_LAT</th>\n",
       "      <th>END_LON</th>\n",
       "      <th>EVENT_NARRATIVE</th>\n",
       "    </tr>\n",
       "  </thead>\n",
       "  <tbody>\n",
       "    <tr>\n",
       "      <th>0</th>\n",
       "      <td>10063615</td>\n",
       "      <td>29189</td>\n",
       "      <td>-630918000</td>\n",
       "      <td>-630918000</td>\n",
       "      <td>0</td>\n",
       "      <td>3</td>\n",
       "      <td>2500000</td>\n",
       "      <td>0</td>\n",
       "      <td>F3</td>\n",
       "      <td>3</td>\n",
       "      <td>...</td>\n",
       "      <td>NaN</td>\n",
       "      <td>NaN</td>\n",
       "      <td>0.0</td>\n",
       "      <td>NaN</td>\n",
       "      <td>NaN</td>\n",
       "      <td>38.77</td>\n",
       "      <td>-90.22</td>\n",
       "      <td>38.82</td>\n",
       "      <td>-90.12</td>\n",
       "      <td>NaN</td>\n",
       "    </tr>\n",
       "    <tr>\n",
       "      <th>1</th>\n",
       "      <td>10009710</td>\n",
       "      <td>17119</td>\n",
       "      <td>-630917400</td>\n",
       "      <td>-630917400</td>\n",
       "      <td>0</td>\n",
       "      <td>0</td>\n",
       "      <td>250000</td>\n",
       "      <td>0</td>\n",
       "      <td>F3</td>\n",
       "      <td>3</td>\n",
       "      <td>...</td>\n",
       "      <td>NaN</td>\n",
       "      <td>NaN</td>\n",
       "      <td>0.0</td>\n",
       "      <td>NaN</td>\n",
       "      <td>NaN</td>\n",
       "      <td>38.82</td>\n",
       "      <td>-90.10</td>\n",
       "      <td>38.83</td>\n",
       "      <td>-90.03</td>\n",
       "      <td>NaN</td>\n",
       "    </tr>\n",
       "    <tr>\n",
       "      <th>2</th>\n",
       "      <td>10009711</td>\n",
       "      <td>17135</td>\n",
       "      <td>-630914700</td>\n",
       "      <td>-630914700</td>\n",
       "      <td>0</td>\n",
       "      <td>3</td>\n",
       "      <td>250000</td>\n",
       "      <td>0</td>\n",
       "      <td>F3</td>\n",
       "      <td>3</td>\n",
       "      <td>...</td>\n",
       "      <td>NaN</td>\n",
       "      <td>NaN</td>\n",
       "      <td>0.0</td>\n",
       "      <td>NaN</td>\n",
       "      <td>NaN</td>\n",
       "      <td>39.10</td>\n",
       "      <td>-89.30</td>\n",
       "      <td>39.12</td>\n",
       "      <td>-89.23</td>\n",
       "      <td>NaN</td>\n",
       "    </tr>\n",
       "    <tr>\n",
       "      <th>3</th>\n",
       "      <td>10086808</td>\n",
       "      <td>39161</td>\n",
       "      <td>-630900000</td>\n",
       "      <td>-630900000</td>\n",
       "      <td>0</td>\n",
       "      <td>1</td>\n",
       "      <td>25000</td>\n",
       "      <td>0</td>\n",
       "      <td>F1</td>\n",
       "      <td>1</td>\n",
       "      <td>...</td>\n",
       "      <td>NaN</td>\n",
       "      <td>NaN</td>\n",
       "      <td>0.0</td>\n",
       "      <td>NaN</td>\n",
       "      <td>NaN</td>\n",
       "      <td>40.88</td>\n",
       "      <td>-84.58</td>\n",
       "      <td>NaN</td>\n",
       "      <td>NaN</td>\n",
       "      <td>NaN</td>\n",
       "    </tr>\n",
       "    <tr>\n",
       "      <th>4</th>\n",
       "      <td>9981922</td>\n",
       "      <td>05113</td>\n",
       "      <td>-630074100</td>\n",
       "      <td>-630074100</td>\n",
       "      <td>1</td>\n",
       "      <td>1</td>\n",
       "      <td>2500</td>\n",
       "      <td>0</td>\n",
       "      <td>F3</td>\n",
       "      <td>3</td>\n",
       "      <td>...</td>\n",
       "      <td>NaN</td>\n",
       "      <td>NaN</td>\n",
       "      <td>0.0</td>\n",
       "      <td>NaN</td>\n",
       "      <td>NaN</td>\n",
       "      <td>34.40</td>\n",
       "      <td>-94.37</td>\n",
       "      <td>NaN</td>\n",
       "      <td>NaN</td>\n",
       "      <td>NaN</td>\n",
       "    </tr>\n",
       "  </tbody>\n",
       "</table>\n",
       "<p>5 rows × 23 columns</p>\n",
       "</div>"
      ],
      "text/plain": [
       "   EVENT_ID   FIPS  BEGIN_TIMESTAMP  END_TIMESTAMP  DEATHS  INJURIES  \\\n",
       "0  10063615  29189       -630918000     -630918000       0         3   \n",
       "1  10009710  17119       -630917400     -630917400       0         0   \n",
       "2  10009711  17135       -630914700     -630914700       0         3   \n",
       "3  10086808  39161       -630900000     -630900000       0         1   \n",
       "4   9981922  05113       -630074100     -630074100       1         1   \n",
       "\n",
       "   DAMAGE_PROPERTY  DAMAGE_CROPS TOR_F_SCALE TOR_F_LEVEL  ...  BEGIN_AZIMUTH  \\\n",
       "0          2500000             0          F3           3  ...            NaN   \n",
       "1           250000             0          F3           3  ...            NaN   \n",
       "2           250000             0          F3           3  ...            NaN   \n",
       "3            25000             0          F1           1  ...            NaN   \n",
       "4             2500             0          F3           3  ...            NaN   \n",
       "\n",
       "   BEGIN_LOCATION  END_RANGE END_AZIMUTH END_LOCATION  BEGIN_LAT BEGIN_LON  \\\n",
       "0             NaN        0.0         NaN          NaN      38.77    -90.22   \n",
       "1             NaN        0.0         NaN          NaN      38.82    -90.10   \n",
       "2             NaN        0.0         NaN          NaN      39.10    -89.30   \n",
       "3             NaN        0.0         NaN          NaN      40.88    -84.58   \n",
       "4             NaN        0.0         NaN          NaN      34.40    -94.37   \n",
       "\n",
       "  END_LAT  END_LON  EVENT_NARRATIVE  \n",
       "0   38.82   -90.12              NaN  \n",
       "1   38.83   -90.03              NaN  \n",
       "2   39.12   -89.23              NaN  \n",
       "3     NaN      NaN              NaN  \n",
       "4     NaN      NaN              NaN  \n",
       "\n",
       "[5 rows x 23 columns]"
      ]
     },
     "execution_count": 32,
     "metadata": {},
     "output_type": "execute_result"
    }
   ],
   "source": [
    "# look into events\n",
    "events_df.head()"
   ]
  },
  {
   "cell_type": "code",
   "execution_count": 19,
   "metadata": {},
   "outputs": [
    {
     "name": "stdout",
     "output_type": "stream",
     "text": [
      "3053\n",
      "3295\n",
      "3295\n"
     ]
    }
   ],
   "source": [
    "# prints fips per df\n",
    "print(events_df.FIPS.nunique())\n",
    "print(fips_df.FIPS.count())\n",
    "print(fips_df.FIPS.nunique())"
   ]
  },
  {
   "cell_type": "code",
   "execution_count": 20,
   "metadata": {},
   "outputs": [
    {
     "data": {
      "text/plain": [
       "FIPS\n",
       "08123    290\n",
       "48201    250\n",
       "08121    209\n",
       "12099    196\n",
       "08001    190\n",
       "        ... \n",
       "34017      1\n",
       "53073      1\n",
       "51610      1\n",
       "08015      1\n",
       "54075      1\n",
       "Name: count, Length: 3053, dtype: int64"
      ]
     },
     "execution_count": 20,
     "metadata": {},
     "output_type": "execute_result"
    }
   ],
   "source": [
    "events_df.FIPS.value_counts()"
   ]
  },
  {
   "cell_type": "markdown",
   "metadata": {},
   "source": [
    "## Get good fips df"
   ]
  },
  {
   "cell_type": "code",
   "execution_count": 21,
   "metadata": {},
   "outputs": [],
   "source": [
    "# separate valid fips from invalid fips (two df's)\n",
    "valid_fips = set(fips_df['FIPS'])\n",
    "\n",
    "# bad fips df (FIPS not in valid_fips list) and opposite for good\n",
    "bad_fips_df = events_df[~events_df['FIPS'].isin(valid_fips)].copy()\n",
    "good_fips_df = events_df[events_df['FIPS'].isin(valid_fips)].copy()"
   ]
  },
  {
   "cell_type": "code",
   "execution_count": 22,
   "metadata": {},
   "outputs": [
    {
     "name": "stdout",
     "output_type": "stream",
     "text": [
      "3053\n",
      "3295\n"
     ]
    }
   ],
   "source": [
    "# check good fips df count\n",
    "print(good_fips_df.FIPS.nunique())\n",
    "print(fips_df.FIPS.count())"
   ]
  },
  {
   "cell_type": "code",
   "execution_count": 23,
   "metadata": {},
   "outputs": [],
   "source": [
    "# export temp csv file for testing\n",
    "good_fips_df.to_csv('../../../Data/Temp_Tornadoes_1950_2024.csv', index=False)"
   ]
  },
  {
   "cell_type": "markdown",
   "metadata": {},
   "source": [
    "## Look into bad fips df"
   ]
  },
  {
   "cell_type": "code",
   "execution_count": 24,
   "metadata": {},
   "outputs": [
    {
     "data": {
      "text/plain": [
       "array([], dtype=object)"
      ]
     },
     "execution_count": 24,
     "metadata": {},
     "output_type": "execute_result"
    }
   ],
   "source": [
    "# look at bad fips\n",
    "pd.set_option('display.max_rows', None)  #display max rows\n",
    "bad_fips_df.FIPS.unique()"
   ]
  },
  {
   "cell_type": "code",
   "execution_count": 25,
   "metadata": {},
   "outputs": [],
   "source": [
    "# reset display max rows\n",
    "pd.reset_option('display.max_rows')"
   ]
  },
  {
   "cell_type": "code",
   "execution_count": 26,
   "metadata": {},
   "outputs": [
    {
     "data": {
      "text/plain": [
       "0"
      ]
     },
     "execution_count": 26,
     "metadata": {},
     "output_type": "execute_result"
    }
   ],
   "source": [
    "# check amount of bad fips rows\n",
    "bad_fips_df.EVENT_ID.count()"
   ]
  },
  {
   "cell_type": "markdown",
   "metadata": {},
   "source": [
    "#### Find year of invalid fips"
   ]
  },
  {
   "cell_type": "code",
   "execution_count": 27,
   "metadata": {},
   "outputs": [],
   "source": [
    "# convert timestamp to datetime\n",
    "bad_fips_df['BEGIN_TIMESTAMP'] = pd.to_datetime(\n",
    "    bad_fips_df['BEGIN_TIMESTAMP'],\n",
    "    utc=True\n",
    ")"
   ]
  },
  {
   "cell_type": "code",
   "execution_count": 28,
   "metadata": {},
   "outputs": [],
   "source": [
    "# create year column\n",
    "bad_fips_df['YEAR'] = bad_fips_df['BEGIN_TIMESTAMP'].dt.year"
   ]
  },
  {
   "cell_type": "code",
   "execution_count": 29,
   "metadata": {},
   "outputs": [
    {
     "data": {
      "text/plain": [
       "array([], dtype=int32)"
      ]
     },
     "execution_count": 29,
     "metadata": {},
     "output_type": "execute_result"
    }
   ],
   "source": [
    "# see years affected\n",
    "bad_fips_df.YEAR.unique()"
   ]
  },
  {
   "cell_type": "code",
   "execution_count": 30,
   "metadata": {},
   "outputs": [
    {
     "data": {
      "text/plain": [
       "Series([], Name: count, dtype: int64)"
      ]
     },
     "execution_count": 30,
     "metadata": {},
     "output_type": "execute_result"
    }
   ],
   "source": [
    "bad_fips_df.YEAR.value_counts()"
   ]
  },
  {
   "cell_type": "code",
   "execution_count": 31,
   "metadata": {},
   "outputs": [
    {
     "data": {
      "text/plain": [
       "EVENT_ID           0\n",
       "FIPS               0\n",
       "BEGIN_TIMESTAMP    0\n",
       "END_TIMESTAMP      0\n",
       "DEATHS             0\n",
       "INJURIES           0\n",
       "DAMAGE_PROPERTY    0\n",
       "DAMAGE_CROPS       0\n",
       "TOR_F_SCALE        0\n",
       "TOR_F_LEVEL        0\n",
       "TOR_LENGTH         0\n",
       "TOR_WIDTH          0\n",
       "BEGIN_RANGE        0\n",
       "BEGIN_AZIMUTH      0\n",
       "BEGIN_LOCATION     0\n",
       "END_RANGE          0\n",
       "END_AZIMUTH        0\n",
       "END_LOCATION       0\n",
       "BEGIN_LAT          0\n",
       "BEGIN_LON          0\n",
       "END_LAT            0\n",
       "END_LON            0\n",
       "EVENT_NARRATIVE    0\n",
       "YEAR               0\n",
       "dtype: int64"
      ]
     },
     "execution_count": 31,
     "metadata": {},
     "output_type": "execute_result"
    }
   ],
   "source": [
    "bad_fips_df.count()"
   ]
  }
 ],
 "metadata": {
  "kernelspec": {
   "display_name": "base",
   "language": "python",
   "name": "python3"
  },
  "language_info": {
   "codemirror_mode": {
    "name": "ipython",
    "version": 3
   },
   "file_extension": ".py",
   "mimetype": "text/x-python",
   "name": "python",
   "nbconvert_exporter": "python",
   "pygments_lexer": "ipython3",
   "version": "3.12.4"
  }
 },
 "nbformat": 4,
 "nbformat_minor": 2
}
