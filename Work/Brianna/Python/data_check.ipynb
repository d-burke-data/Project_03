{
 "cells": [
  {
   "cell_type": "code",
   "execution_count": 2,
   "metadata": {},
   "outputs": [],
   "source": [
    "# dependencies\n",
    "import pandas as pd"
   ]
  },
  {
   "cell_type": "code",
   "execution_count": 3,
   "metadata": {},
   "outputs": [],
   "source": [
    "# import data\n",
    "events_df = pd.read_csv('../../../Data/Tornadoes_1950_2024.csv', dtype={'FIPS': str})\n",
    "fips_df = pd.read_csv('../../../Data/fips_data.csv', dtype={'FIPS': str})\n",
    "scales_df = pd.read_csv('../../../Data/f_scales.csv')"
   ]
  },
  {
   "cell_type": "code",
   "execution_count": 4,
   "metadata": {},
   "outputs": [
    {
     "name": "stdout",
     "output_type": "stream",
     "text": [
      "3076\n",
      "3235\n",
      "3235\n"
     ]
    }
   ],
   "source": [
    "# prints fips per df\n",
    "print(events_df.FIPS.nunique())\n",
    "print(fips_df.FIPS.count())\n",
    "print(fips_df.FIPS.nunique())"
   ]
  },
  {
   "cell_type": "code",
   "execution_count": 5,
   "metadata": {},
   "outputs": [
    {
     "data": {
      "text/plain": [
       "FIPS\n",
       "08123    290\n",
       "48201    250\n",
       "08121    209\n",
       "12099    196\n",
       "08001    190\n",
       "        ... \n",
       "51039      1\n",
       "41003      1\n",
       "30023      1\n",
       "08079      1\n",
       "54075      1\n",
       "Name: count, Length: 3076, dtype: int64"
      ]
     },
     "execution_count": 5,
     "metadata": {},
     "output_type": "execute_result"
    }
   ],
   "source": [
    "events_df.FIPS.value_counts()"
   ]
  },
  {
   "cell_type": "markdown",
   "metadata": {},
   "source": [
    "## Get good fips df"
   ]
  },
  {
   "cell_type": "code",
   "execution_count": 6,
   "metadata": {},
   "outputs": [],
   "source": [
    "# separate valid fips from invalid fips (two df's)\n",
    "valid_fips = set(fips_df['FIPS'])\n",
    "\n",
    "# bad fips df (FIPS not in valid_fips list) and opposite for good\n",
    "bad_fips_df = events_df[~events_df['FIPS'].isin(valid_fips)].copy()\n",
    "good_fips_df = events_df[events_df['FIPS'].isin(valid_fips)].copy()"
   ]
  },
  {
   "cell_type": "code",
   "execution_count": 7,
   "metadata": {},
   "outputs": [
    {
     "name": "stdout",
     "output_type": "stream",
     "text": [
      "3026\n",
      "3235\n"
     ]
    }
   ],
   "source": [
    "# check good fips df count\n",
    "print(good_fips_df.FIPS.nunique())\n",
    "print(fips_df.FIPS.count())"
   ]
  },
  {
   "cell_type": "code",
   "execution_count": 8,
   "metadata": {},
   "outputs": [],
   "source": [
    "# export temp csv file for testing\n",
    "good_fips_df.to_csv('../../../Data/Temp_Tornadoes_1950_2024.csv', index=False)"
   ]
  },
  {
   "cell_type": "markdown",
   "metadata": {},
   "source": [
    "## Look into bad fips df"
   ]
  },
  {
   "cell_type": "code",
   "execution_count": 9,
   "metadata": {},
   "outputs": [
    {
     "data": {
      "text/plain": [
       "array(['46131', '13597', '51039', '51780', '51123', '99021', '15000',\n",
       "       '46001', '29677', '12000', '53000', '06000', '46000', '37000',\n",
       "       '99127', '30000', '16000', '32000', '40050', '40012', '40032',\n",
       "       '40018', '40028', '40040', '40038', '40046', '40052', '40020',\n",
       "       '40030', '40026', '40048', '99097', '99069', '99009', '99010',\n",
       "       '02155', '99011', '99008', '02181', '99005', '99099', '99081',\n",
       "       '99003', '99091', '99139', '96010', '99079', '99013', '99085',\n",
       "       '02101'], dtype=object)"
      ]
     },
     "execution_count": 9,
     "metadata": {},
     "output_type": "execute_result"
    }
   ],
   "source": [
    "# look at bad fips\n",
    "pd.set_option('display.max_rows', None)  #display max rows\n",
    "bad_fips_df.FIPS.unique()"
   ]
  },
  {
   "cell_type": "code",
   "execution_count": 10,
   "metadata": {},
   "outputs": [],
   "source": [
    "# reset display max rows\n",
    "pd.reset_option('display.max_rows')"
   ]
  },
  {
   "cell_type": "code",
   "execution_count": 11,
   "metadata": {},
   "outputs": [
    {
     "data": {
      "text/plain": [
       "65"
      ]
     },
     "execution_count": 11,
     "metadata": {},
     "output_type": "execute_result"
    }
   ],
   "source": [
    "# check amount of bad fips rows\n",
    "bad_fips_df.EVENT_ID.count()"
   ]
  },
  {
   "cell_type": "markdown",
   "metadata": {},
   "source": [
    "#### Find year of invalid fips"
   ]
  },
  {
   "cell_type": "code",
   "execution_count": 12,
   "metadata": {},
   "outputs": [],
   "source": [
    "# convert timestamp to datetime\n",
    "bad_fips_df['BEGIN_TIMESTAMP'] = pd.to_datetime(\n",
    "    bad_fips_df['BEGIN_TIMESTAMP'],\n",
    "    utc=True\n",
    ")"
   ]
  },
  {
   "cell_type": "code",
   "execution_count": 13,
   "metadata": {},
   "outputs": [],
   "source": [
    "# create year column\n",
    "bad_fips_df['YEAR'] = bad_fips_df['BEGIN_TIMESTAMP'].dt.year"
   ]
  },
  {
   "cell_type": "code",
   "execution_count": 14,
   "metadata": {},
   "outputs": [
    {
     "data": {
      "text/plain": [
       "array([1969, 1970])"
      ]
     },
     "execution_count": 14,
     "metadata": {},
     "output_type": "execute_result"
    }
   ],
   "source": [
    "# see years affected\n",
    "bad_fips_df.YEAR.unique()"
   ]
  },
  {
   "cell_type": "code",
   "execution_count": 15,
   "metadata": {},
   "outputs": [
    {
     "data": {
      "text/plain": [
       "YEAR\n",
       "1970    61\n",
       "1969     4\n",
       "Name: count, dtype: int64"
      ]
     },
     "execution_count": 15,
     "metadata": {},
     "output_type": "execute_result"
    }
   ],
   "source": [
    "bad_fips_df.YEAR.value_counts()"
   ]
  },
  {
   "cell_type": "code",
   "execution_count": 16,
   "metadata": {},
   "outputs": [
    {
     "data": {
      "text/plain": [
       "EVENT_ID           65\n",
       "FIPS               65\n",
       "BEGIN_TIMESTAMP    65\n",
       "END_TIMESTAMP      65\n",
       "DEATHS             65\n",
       "INJURIES           65\n",
       "DAMAGE_PROPERTY    65\n",
       "DAMAGE_CROPS       65\n",
       "TOR_F_SCALE        65\n",
       "TOR_F_LEVEL        65\n",
       "TOR_LENGTH         52\n",
       "TOR_WIDTH          52\n",
       "BEGIN_RANGE        42\n",
       "BEGIN_AZIMUTH      21\n",
       "BEGIN_LOCATION     39\n",
       "END_RANGE          42\n",
       "END_AZIMUTH        18\n",
       "END_LOCATION       31\n",
       "BEGIN_LAT          31\n",
       "BEGIN_LON          31\n",
       "END_LAT            23\n",
       "END_LON            23\n",
       "EVENT_NARRATIVE    33\n",
       "YEAR               65\n",
       "dtype: int64"
      ]
     },
     "execution_count": 16,
     "metadata": {},
     "output_type": "execute_result"
    }
   ],
   "source": [
    "bad_fips_df.count()"
   ]
  }
 ],
 "metadata": {
  "kernelspec": {
   "display_name": "base",
   "language": "python",
   "name": "python3"
  },
  "language_info": {
   "codemirror_mode": {
    "name": "ipython",
    "version": 3
   },
   "file_extension": ".py",
   "mimetype": "text/x-python",
   "name": "python",
   "nbconvert_exporter": "python",
   "pygments_lexer": "ipython3",
   "version": "3.12.4"
  }
 },
 "nbformat": 4,
 "nbformat_minor": 2
}
